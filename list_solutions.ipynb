{
 "cells": [
  {
   "cell_type": "code",
   "execution_count": 7,
   "id": "7d7eef15-fa35-4fbc-9efd-e55c5b8c62ba",
   "metadata": {},
   "outputs": [
    {
     "name": "stdout",
     "output_type": "stream",
     "text": [
      "[2, 4, 6]\n",
      "[]\n"
     ]
    }
   ],
   "source": [
    "#Lists\n",
    "#Easy Questions\n",
    "\"\"\"List Operations\n",
    "1. Write a function called filter_even_numbers that takes a list of integers and\n",
    "returns a new list containing only the even numbers.\"\"\"\n",
    "# Example usage:\n",
    "def filter_even_numbers(arr):\n",
    "    return[num for num in arr if num%2==0 ] \n",
    "print(filter_even_numbers([1, 2, 3, 4, 5, 6]))  # Should return [2, 4, 6]\n",
    "print(filter_even_numbers([1, 3, 5]))  # Should return []\n"
   ]
  },
  {
   "cell_type": "code",
   "execution_count": 4,
   "id": "2a255d9a-be57-4394-9cb4-86471b5f5ee2",
   "metadata": {},
   "outputs": [
    {
     "name": "stdout",
     "output_type": "stream",
     "text": [
      "[1, 2, 3, 4, 5, 6]\n",
      "[1, 2, 3, 4, 5, 6]\n"
     ]
    }
   ],
   "source": [
    "#List Manipulation\n",
    "\"\"\"\n",
    "2. Write a function called merge_sorted_lists that takes two sorted lists and\n",
    "returns a new sorted list containing all elements from both lists.\"\"\"\n",
    "# Example usage:\n",
    "def merge_sorted_lists(arr,arr2):\n",
    "    sum_arr= arr+arr2\n",
    "    for i in range(len(sum_arr)):\n",
    "        for j in range(0,len(sum_arr)-i-1):\n",
    "            if sum_arr[j]>sum_arr[j+1]:\n",
    "                sum_arr[j],sum_arr[j+1]=sum_arr[j+1],sum_arr[j]\n",
    "    return sum_arr\n",
    "print(merge_sorted_lists([1, 3, 5], [2, 4, 6]))  # Should return [1, 2, 3, 4, 5, 6]\n",
    "print(merge_sorted_lists([1, 2, 3], [4, 5, 6]))  # Should return [1, 2, 3, 4, 5, 6]"
   ]
  },
  {
   "cell_type": "code",
   "execution_count": 10,
   "id": "696e417e-ff3f-44a5-8c5d-3864e4982be0",
   "metadata": {},
   "outputs": [
    {
     "name": "stdout",
     "output_type": "stream",
     "text": [
      "[[0, 0, 0], [0, 1, 2], [0, 2, 4]]\n"
     ]
    }
   ],
   "source": [
    "#Medium Questions\n",
    "#List Comprehensions\n",
    "\"\"\"\n",
    "3. Write a function called generate_matrix that takes dimensions n and m, and returns \n",
    "an n×m matrix where each element at position (i,j) is calculated as i*j.\"\"\"\n",
    "# Example usage:\n",
    "def generate_matrix(n,m):\n",
    "    arr=[]\n",
    "    for i in range(0,n):\n",
    "        row =[]\n",
    "        for j in range(0,m):\n",
    "            row.append(i*j)\n",
    "        arr.append(row)\n",
    "    return arr\n",
    "\n",
    "print(generate_matrix(3, 3))\n",
    "# Should return:\n",
    "# [\n",
    "#   [0, 0, 0],\n",
    "#   [0, 1, 2],\n",
    "#   [0, 2, 4]\n",
    "# ]\n"
   ]
  },
  {
   "cell_type": "code",
   "execution_count": 11,
   "id": "47bdbfdf-0614-4732-9caf-642faec59c98",
   "metadata": {},
   "outputs": [
    {
     "name": "stdout",
     "output_type": "stream",
     "text": [
      "[1, 4, 8]\n"
     ]
    }
   ],
   "source": [
    "#Hard Questions\n",
    "#Advanced List Operations\n",
    "\"\"\"Write a function called find_peaks that takes a list of numbers and returns the indices of \n",
    "all \"peaks\" (elements that are greater than both of their neighbors).\"\"\"\n",
    "\n",
    "# Example usage:\n",
    "def find_peaks(nums):\n",
    "    peaks = []\n",
    "    for i in range(1, len(nums) - 1):\n",
    "        if nums[i] > nums[i - 1] and nums[i] > nums[i + 1]:\n",
    "            peaks.append(i)\n",
    "    return peaks\n",
    " \n",
    "# Example usage:\n",
    "print(find_peaks([1, 3, 2, 3, 5, 4, 3, 2, 3, 1]))  # Should return [1, 4, 8]"
   ]
  },
  {
   "cell_type": "code",
   "execution_count": 17,
   "id": "651b40f5-c85e-4e0a-a05b-7472bd6e43e6",
   "metadata": {},
   "outputs": [
    {
     "name": "stdout",
     "output_type": "stream",
     "text": [
      "[4, 5, 1, 2, 3]\n",
      "[3, 1, 2]\n"
     ]
    }
   ],
   "source": [
    "#List Algorithms\n",
    "\"\"\"Implement a function called rotate_list that rotates a list to the right by k steps, without \n",
    "using built-in functions like slice assignment.\"\"\"\n",
    "def rotate_list(arr, num):\n",
    "    n = len(arr)\n",
    "    num = num % n  # To handle cases where num > len(arr)\n",
    "    return arr[-num:] + arr[:-num]\n",
    "# Example usage:\n",
    "print(rotate_list([1, 2, 3, 4, 5], 2))  # Should return [4, 5, 1, 2, 3]\n",
    "print(rotate_list([1, 2, 3], 4))  # Should return [3, 1, 2]"
   ]
  },
  {
   "cell_type": "code",
   "execution_count": null,
   "id": "e36f2a2a-6404-408f-94df-35b00b49319b",
   "metadata": {},
   "outputs": [],
   "source": []
  }
 ],
 "metadata": {
  "kernelspec": {
   "display_name": "Python 3 (ipykernel)",
   "language": "python",
   "name": "python3"
  },
  "language_info": {
   "codemirror_mode": {
    "name": "ipython",
    "version": 3
   },
   "file_extension": ".py",
   "mimetype": "text/x-python",
   "name": "python",
   "nbconvert_exporter": "python",
   "pygments_lexer": "ipython3",
   "version": "3.13.3"
  }
 },
 "nbformat": 4,
 "nbformat_minor": 5
}
