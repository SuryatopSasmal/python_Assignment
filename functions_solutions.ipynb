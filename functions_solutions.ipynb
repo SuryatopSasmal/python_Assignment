{
 "cells": [
  {
   "cell_type": "code",
   "execution_count": 1,
   "id": "5d89b8de-75a3-43be-9159-8ab1ba42cc09",
   "metadata": {},
   "outputs": [
    {
     "name": "stdout",
     "output_type": "stream",
     "text": [
      "12.5\n",
      "0\n"
     ]
    }
   ],
   "source": [
    "#Functions\n",
    "#Easy Questions\n",
    "\"\"\"\n",
    "1. Function Basics\n",
    "    Write a function called `calculate_average` that takes a list of numbers as input \n",
    "    and returns their average. If the list is empty, it should return 0.\"\"\"\n",
    "    \n",
    "def calculate_average(arr):\n",
    "    if arr is None or len(arr) == 0:\n",
    "        return 0\n",
    "    length = len(arr)\n",
    "    sum = 0\n",
    "    for val in arr:\n",
    "        sum += val\n",
    "    return sum/length\n",
    "print(calculate_average([5, 10, 15, 20]))  # Should return 12.5\n",
    "print(calculate_average([]))  # Should return 0"
   ]
  },
  {
   "cell_type": "code",
   "execution_count": 10,
   "id": "b4cbb8dd-d1f5-4463-af75-5caa7ce49268",
   "metadata": {},
   "outputs": [
    {
     "name": "stdout",
     "output_type": "stream",
     "text": [
      "Hello, Alice!\n",
      "Hi, Bob!\n"
     ]
    }
   ],
   "source": [
    "\"\"\"\n",
    "2. Default Parameters\n",
    "    Write a function called `greet_user` that takes a name and a greeting message. \n",
    "    The greeting message should default to \"Hello\" if not provided.\"\"\"\n",
    "\n",
    "def greet_user(name, greeting=None):\n",
    "    if greeting is None:\n",
    "        return f\"Hello, {name}!\"\n",
    "    elif greeting == \"Hi\":\n",
    "        return f\"Hi, {name}!\"\n",
    "print(greet_user(\"Alice\"))  # Should return \"Hello, Alice!\"\n",
    "print(greet_user(\"Bob\", \"Hi\"))  # Should return \"Hi, Bob!\""
   ]
  },
  {
   "cell_type": "code",
   "execution_count": 12,
   "id": "3c1613c6-2768-4c06-bfde-40067d2beb05",
   "metadata": {},
   "outputs": [
    {
     "name": "stdout",
     "output_type": "stream",
     "text": [
      "60\n",
      "54\n"
     ]
    }
   ],
   "source": [
    "#Medium Questions\n",
    "\"\"\"\n",
    "1. Variable Arguments\n",
    "    Create a function called `calculate_total` that calculates the total cost of \n",
    "    items with a variable number of prices and an optional discount percentage.\"\"\"\n",
    "def calculate_total(a,b,c, discount=None):\n",
    "    sumof = a+b+c\n",
    "    if discount is None:\n",
    "        return sumof\n",
    "    elif discount is not None:\n",
    "        disc = sumof*(10/100)\n",
    "        return int(sumof-disc) #used int type cast as the output was in float i.e 54.0\n",
    "print(calculate_total(10, 20, 30))  # Should return 60\n",
    "print(calculate_total(10, 20, 30, discount=10))  # Should return 54 (10% off)\n"
   ]
  },
  {
   "cell_type": "code",
   "execution_count": 13,
   "id": "44485366-d0e7-43c6-a59b-135f6dd3ef63",
   "metadata": {},
   "outputs": [
    {
     "name": "stdout",
     "output_type": "stream",
     "text": [
      "10\n",
      "15\n"
     ]
    }
   ],
   "source": [
    "\"\"\"\n",
    "2. Create a function called create_multiplier that takes a number and returns a function that multiplies any input by that number.\n",
    "# Example usage:\"\"\"\n",
    "# Closures\n",
    "def create_multiplier(num):\n",
    "    def multiplie(val):\n",
    "        return num*val\n",
    "    return multiplie\n",
    "\n",
    "double = create_multiplier(2)\n",
    "triple = create_multiplier(3)\n",
    "print(double(5))  # Should return 10\n",
    "print(triple(5))  # Should return 15\n"
   ]
  },
  {
   "cell_type": "code",
   "execution_count": 25,
   "id": "e5e9975e-1dd2-4c79-b685-94630a4866cf",
   "metadata": {},
   "outputs": [
    {
     "name": "stdout",
     "output_type": "stream",
     "text": [
      "1024\n",
      "81\n"
     ]
    }
   ],
   "source": [
    "#Hard Questions\n",
    "#Recursion\n",
    "\"\"\"\n",
    "1. Implement a recursive function called power that calculates x^n (x raised to the power of n)\n",
    "without using the built-in power operator or function. Your function should have O(log n) time complexity.\n",
    "# Example usage:\"\"\"\n",
    "def power(num, val):\n",
    "    if val==0:\n",
    "        return 1\n",
    "    if val==1:\n",
    "        return num\n",
    "    if val%2 ==0:\n",
    "        half_value = power(num, val//2)\n",
    "        return half_value*half_value\n",
    "    else:\n",
    "        return num*power(num, val-1)\n",
    "        \n",
    "print(power(2, 10))  # Should return 1024\n",
    "print(power(3, 4))   # Should return 81\n"
   ]
  },
  {
   "cell_type": "code",
   "execution_count": 27,
   "id": "21dc050b-70a9-43da-a0af-fc195518fb19",
   "metadata": {},
   "outputs": [
    {
     "name": "stdout",
     "output_type": "stream",
     "text": [
      "64\n"
     ]
    }
   ],
   "source": [
    "#Higher-Order Functions\n",
    "\"\"\"Create a function called compose that takes any number of single-parameter functions as input and returns\n",
    "a new function that applies each function in sequence from right to left.\n",
    "# Example usage:\"\"\"\n",
    "\n",
    "def add_one(x): return x + 1\n",
    "def double(x): return x * 2\n",
    "def square(x): return x ** 2\n",
    "\n",
    "def compose(*functions):\n",
    "    def composed_function(x):\n",
    "        for f in reversed(functions):\n",
    "            x = f(x)\n",
    "        return x\n",
    "    return composed_function\n",
    "\n",
    "f = compose(square, double, add_one)\n",
    "\n",
    "print(f(3))  # Should compute square(double(add_one(3))) = square(double(4)) = square(8) = 64"
   ]
  },
  {
   "cell_type": "code",
   "execution_count": null,
   "id": "2e5e21a2-490c-47c7-a845-23d9fab7405a",
   "metadata": {},
   "outputs": [],
   "source": []
  }
 ],
 "metadata": {
  "kernelspec": {
   "display_name": "Python 3 (ipykernel)",
   "language": "python",
   "name": "python3"
  },
  "language_info": {
   "codemirror_mode": {
    "name": "ipython",
    "version": 3
   },
   "file_extension": ".py",
   "mimetype": "text/x-python",
   "name": "python",
   "nbconvert_exporter": "python",
   "pygments_lexer": "ipython3",
   "version": "3.13.3"
  }
 },
 "nbformat": 4,
 "nbformat_minor": 5
}
