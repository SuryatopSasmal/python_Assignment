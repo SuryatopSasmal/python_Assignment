{
 "cells": [
  {
   "cell_type": "code",
   "execution_count": 2,
   "id": "f0527afa-0c71-4c81-bd7c-6cdeaec506c9",
   "metadata": {},
   "outputs": [
    {
     "name": "stdout",
     "output_type": "stream",
     "text": [
      "(2, 1, 4, 3)\n",
      "(2, 1, 3)\n"
     ]
    }
   ],
   "source": [
    "#Easy Questions\n",
    "#Tuple Basics\n",
    "\"\"\"\n",
    "1. Write a function called swap_pairs that swaps adjacent elements in a tuple. If the \n",
    "tuple has an odd length, the last element should remain in place.\"\"\"\n",
    "# Example usage:\n",
    "def swap_pairs(tup):\n",
    "    result = ()\n",
    "    for i in range(0, len(tup), 2):\n",
    "        # If there's a pair, swap it, otherwise just add the last element\n",
    "        if i + 1 < len(tup):\n",
    "            result += (tup[i + 1], tup[i])  # Swap the pair\n",
    "        else:\n",
    "            result += (tup[i],)  # Add the last element as it is\n",
    "    \n",
    "    return result\n",
    "# Example usage:\n",
    "print(swap_pairs((1, 2, 3, 4)))  # Should return (2, 1, 4, 3)\n",
    "print(swap_pairs((1, 2, 3)))  # Should return (2, 1, 3)"
   ]
  },
  {
   "cell_type": "code",
   "execution_count": null,
   "id": "ba7e1d36-4120-4743-b421-9a778f6c47d4",
   "metadata": {},
   "outputs": [],
   "source": []
  },
  {
   "cell_type": "code",
   "execution_count": 6,
   "id": "498199cd-8ce2-4a87-8ac5-ebbf77519ef9",
   "metadata": {},
   "outputs": [
    {
     "name": "stdout",
     "output_type": "stream",
     "text": [
      "(1, 5, 15, 3.0)\n"
     ]
    }
   ],
   "source": [
    "#Tuple Unpacking\n",
    "#import sys\n",
    "#min_int = -sys.maxsize - 1 ----not recommended to use \n",
    "\"\"\"2. Write a function called get_stats that takes a list of numbers and returns\n",
    "a tuple containing the minimum, maximum, sum, and average of the numbers.\"\"\"\n",
    "# Example usage:\n",
    "def get_stats(arr):\n",
    "    result = ()\n",
    "    min_val = min(arr)\n",
    "    result+=(min_val,)\n",
    "    max_val = max(arr)\n",
    "    result+=(max_val,)\n",
    "    sum_val = sum(arr)\n",
    "    result+=(sum_val,)\n",
    "    avg = sum_val/len(arr)\n",
    "    result+=(avg,)\n",
    "    return result\n",
    "print(get_stats([1, 2, 3, 4, 5]))  # Should return (1, 5, 15, 3.0)"
   ]
  },
  {
   "cell_type": "code",
   "execution_count": 1,
   "id": "ba29e2e6-fddf-4ea2-ad2d-79716c3805b1",
   "metadata": {},
   "outputs": [
    {
     "name": "stdout",
     "output_type": "stream",
     "text": [
      "Student(name='Charlie', age=21, grades=(90, 92, 93))\n"
     ]
    }
   ],
   "source": [
    "#Medium Questions\n",
    "from collections import namedtuple\n",
    "\n",
    "Student = namedtuple('Student', ['name', 'age', 'grades'])\n",
    "def top_student(students):\n",
    "    return max(students, key=lambda student: sum(student.grades) / len(student.grades))\n",
    "\n",
    "# Example usage\n",
    "alice = Student(\"Alice\", 20, (85, 90, 95))\n",
    "bob = Student(\"Bob\", 19, (70, 80, 90))\n",
    "charlie = Student(\"Charlie\", 21, (90, 92, 93))\n",
    "\n",
    "# Should print Charlie's info\n",
    "print(top_student([alice, bob, charlie]))\n",
    "# Should return the charlie Student tuple"
   ]
  },
  {
   "cell_type": "code",
   "execution_count": 4,
   "id": "0501d37a-0420-4a64-810b-0e8982db5651",
   "metadata": {},
   "outputs": [
    {
     "name": "stdout",
     "output_type": "stream",
     "text": [
      "{(1, 2): 3, (3, 4): 2, (5, 6): 1}\n"
     ]
    }
   ],
   "source": [
    "# Tuple as Keys\n",
    "\"\"\"Create a function called count_coordinate_occurrences that takes a list of (x, y) coordinate \n",
    "tuples and returns a dictionary mapping each coordinate to the number of times it appears in the list.\"\"\"\n",
    "# Example usage:\n",
    "def count_coordinate_occurrences(coords):\n",
    "    dic = {}\n",
    "    for coord in coords:\n",
    "        if coord in dic:\n",
    "            dic[coord] += 1\n",
    "        else:\n",
    "            dic[coord] = 1\n",
    "    return dic\n",
    "\n",
    "# Example usage:\n",
    "coords = [(1, 2), (3, 4), (1, 2), (5, 6), (3, 4), (1, 2)]\n",
    "print(count_coordinate_occurrences(coords))\n",
    "# Output: {(1, 2): 3, (3, 4): 2, (5, 6): 1}"
   ]
  },
  {
   "cell_type": "code",
   "execution_count": null,
   "id": "07c42eca-7d96-4675-81ac-03798c107134",
   "metadata": {},
   "outputs": [],
   "source": []
  }
 ],
 "metadata": {
  "kernelspec": {
   "display_name": "Python 3 (ipykernel)",
   "language": "python",
   "name": "python3"
  },
  "language_info": {
   "codemirror_mode": {
    "name": "ipython",
    "version": 3
   },
   "file_extension": ".py",
   "mimetype": "text/x-python",
   "name": "python",
   "nbconvert_exporter": "python",
   "pygments_lexer": "ipython3",
   "version": "3.13.3"
  }
 },
 "nbformat": 4,
 "nbformat_minor": 5
}
