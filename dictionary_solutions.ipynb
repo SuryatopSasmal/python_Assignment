{
 "cells": [
  {
   "cell_type": "code",
   "execution_count": 1,
   "id": "814d90fe-654d-46ea-bb33-b352a439e697",
   "metadata": {},
   "outputs": [
    {
     "name": "stdout",
     "output_type": "stream",
     "text": [
      "{1: 'a', 2: 'b', 3: 'c'}\n"
     ]
    }
   ],
   "source": [
    "### Easy Questions\n",
    "\n",
    "\"\"\"1. Dictionary Basics**\n",
    "    \n",
    "    Write a function called `invert_dictionary` that takes a dictionary and returns a new \n",
    "    dictionary where the keys become values and values become keys.\"\"\"\n",
    "def invert_dictionary(d):\n",
    "    return {v: k for k, v in d.items()}\n",
    "\n",
    "# Example usage:\n",
    "print(invert_dictionary({\"a\": 1, \"b\": 2, \"c\": 3}))\n",
    "# Output: {1: 'a', 2: 'b', 3: 'c'}\n"
   ]
  },
  {
   "cell_type": "code",
   "execution_count": 3,
   "id": "dbf7c466-020d-4a5c-94ba-9038d3d0e7f8",
   "metadata": {},
   "outputs": [
    {
     "name": "stdout",
     "output_type": "stream",
     "text": [
      "{'a': 1, 'b': 3, 'c': 4}\n"
     ]
    }
   ],
   "source": [
    "\"\"\"2. **Dictionary Operations**\n",
    "Write a function called `merge_dictionaries` that takes two dictionaries and merges them. \n",
    "If a key exists in both dictionaries, the value from the second dictionary should be used.\"\"\"\n",
    "def merge_dictionaries(dict1, dict2):\n",
    "\n",
    "    merged = dict1.copy()      # Make a copy of the first dictionary\n",
    "    merged.update(dict2)       # Update it with the second dictionary\n",
    "    return merged\n",
    "\n",
    "# Example usage:\n",
    "dict1 = {\"a\": 1, \"b\": 2}\n",
    "dict2 = {\"b\": 3, \"c\": 4}\n",
    "print(merge_dictionaries(dict1, dict2))\n",
    "# Output: {\"a\": 1, \"b\": 3, \"c\": 4}\n"
   ]
  },
  {
   "cell_type": "code",
   "execution_count": 4,
   "id": "d42fb932-8dbf-4e27-80b1-7a165f733cc3",
   "metadata": {},
   "outputs": [
    {
     "name": "stdout",
     "output_type": "stream",
     "text": [
      "{'the': 2, 'quick': 1, 'brown': 1, 'fox': 1, 'jumps': 1, 'over': 1, 'lazy': 1, 'dog': 1}\n"
     ]
    }
   ],
   "source": [
    "#Medium Questions\n",
    "\"\"\"Dictionary Comprehensions\n",
    "1. Write a function called word_frequencies that takes a string of \n",
    "text and returns a dictionary mapping each word to its frequency (count of occurrences).\"\"\"\n",
    "# Example usage:\n",
    "def word_frequencies(text):\n",
    "    words = text.split()         # Split the text into words\n",
    "    freq = {}\n",
    "    for word in words:\n",
    "        if word in freq:\n",
    "            freq[word] += 1\n",
    "        else:\n",
    "            freq[word] = 1\n",
    "    return freq\n",
    "\n",
    "# Example usage:\n",
    "text = \"the quick brown fox jumps over the lazy dog\"\n",
    "print(word_frequencies(text))\n",
    "# Output: {\"the\": 2, \"quick\": 1, \"brown\": 1, \"fox\": 1, \"jumps\": 1, \"over\": 1, \"lazy\": 1, \"dog\": 1}"
   ]
  },
  {
   "cell_type": "code",
   "execution_count": null,
   "id": "6b9a24d9-c630-402a-a2ca-50a82aaf2617",
   "metadata": {},
   "outputs": [],
   "source": [
    "#Nested Dictionaries\n",
    "\"\"\"\n",
    "2. Create a function called add_contact that manages a nested dictionary \n",
    "representing a contact book. The function should add a new contact with \n",
    "details or update an existing contact.\"\"\"\n",
    "# Example usage:\n",
    "contacts = {}\n",
    "add_contact(contacts, \"Alice\", phone=\"123-456-7890\", email=\"alice@example.com\")\n",
    "add_contact(contacts, \"Bob\", phone=\"987-654-3210\")\n",
    "add_contact(contacts, \"Alice\", address=\"123 Main St\")  # Updates Alice's info\n",
    "\n",
    "print(contacts)\n",
    "# Should return:\n",
    "# {\n",
    "#   \"Alice\": {\"phone\": \"123-456-7890\", \"email\": \"alice@example.com\", \"address\": \"123 Main St\"},\n",
    "#   \"Bob\": {\"phone\": \"987-654-3210\"}\n",
    "# }"
   ]
  }
 ],
 "metadata": {
  "kernelspec": {
   "display_name": "Python 3 (ipykernel)",
   "language": "python",
   "name": "python3"
  },
  "language_info": {
   "codemirror_mode": {
    "name": "ipython",
    "version": 3
   },
   "file_extension": ".py",
   "mimetype": "text/x-python",
   "name": "python",
   "nbconvert_exporter": "python",
   "pygments_lexer": "ipython3",
   "version": "3.13.3"
  }
 },
 "nbformat": 4,
 "nbformat_minor": 5
}
